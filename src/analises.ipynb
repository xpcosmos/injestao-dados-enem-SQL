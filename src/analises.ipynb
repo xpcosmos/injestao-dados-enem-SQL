{
 "cells": [
  {
   "cell_type": "markdown",
   "metadata": {},
   "source": [
    "# Importação de bibliotecas"
   ]
  },
  {
   "cell_type": "code",
   "execution_count": 150,
   "metadata": {},
   "outputs": [],
   "source": [
    "import pandas as pd\n",
    "from scipy.stats import normaltest\n",
    "from statsmodels.stats.weightstats import DescrStatsW\n",
    "from statsmodels.stats.weightstats import CompareMeans\n",
    "from scipy.stats import wilcoxon, ranksums"
   ]
  },
  {
   "cell_type": "markdown",
   "metadata": {},
   "source": [
    "# Carregamento dos dados"
   ]
  },
  {
   "cell_type": "code",
   "execution_count": 29,
   "metadata": {},
   "outputs": [],
   "source": [
    "amostras = pd.read_csv('/Users/mikeiasoliveira/Documents/Projetos/análise_dados_enem/analise-dados-enem/dados/amostras/amostra-redacao.csv', sep =';')"
   ]
  },
  {
   "cell_type": "markdown",
   "metadata": {},
   "source": [
    "# Limpeza dos dados"
   ]
  },
  {
   "cell_type": "code",
   "execution_count": 32,
   "metadata": {},
   "outputs": [],
   "source": [
    "amostras = amostras.dropna(subset= 'NU_NOTA_REDACAO')"
   ]
  },
  {
   "cell_type": "markdown",
   "metadata": {},
   "source": [
    "# Testes estatísticos"
   ]
  },
  {
   "cell_type": "markdown",
   "metadata": {},
   "source": [
    "----\n",
    "----"
   ]
  },
  {
   "cell_type": "markdown",
   "metadata": {},
   "source": [
    "## Teste de normalidade"
   ]
  },
  {
   "cell_type": "code",
   "execution_count": 39,
   "metadata": {},
   "outputs": [
    {
     "name": "stdout",
     "output_type": "stream",
     "text": [
      "O P-value é igual a: 0.06\n"
     ]
    }
   ],
   "source": [
    "stats_normTestRedacao, pValor_normTestRedacao = normaltest(amostras.NU_NOTA_REDACAO)\n",
    "print(f'O P-value é igual a: {round(pValor_normTestRedacao, 2)}')\n"
   ]
  },
  {
   "cell_type": "markdown",
   "metadata": {},
   "source": [
    "$ H_0: $ A distribuição provém de uma distribuição normal <br>\n",
    "$ H_1: $ A distribuição não provém de uma distribuição normal <br>\n",
    "$ p-value > \\alpha $ <br><br>\n",
    "\n",
    "<font color='green'>A amostra provém de uma distribuição normal</font>\n"
   ]
  },
  {
   "cell_type": "markdown",
   "metadata": {},
   "source": [
    "----"
   ]
  },
  {
   "cell_type": "code",
   "execution_count": 41,
   "metadata": {},
   "outputs": [
    {
     "data": {
      "text/plain": [
       "Index(['NU_INSCRICAO', 'NU_ANO', 'TP_FAIXA_ETARIA', 'TP_SEXO',\n",
       "       'TP_ESTADO_CIVIL', 'TP_COR_RACA', 'TP_NACIONALIDADE', 'TP_ST_CONCLUSAO',\n",
       "       'TP_ANO_CONCLUIU', 'TP_ESCOLA', 'TP_ENSINO', 'IN_TREINEIRO',\n",
       "       'CO_MUNICIPIO_ESC', 'NO_MUNICIPIO_ESC', 'CO_UF_ESC', 'SG_UF_ESC',\n",
       "       'TP_DEPENDENCIA_ADM_ESC', 'TP_LOCALIZACAO_ESC', 'TP_SIT_FUNC_ESC',\n",
       "       'CO_MUNICIPIO_PROVA', 'NO_MUNICIPIO_PROVA', 'CO_UF_PROVA',\n",
       "       'SG_UF_PROVA', 'TP_PRESENCA_CN', 'TP_PRESENCA_CH', 'TP_PRESENCA_LC',\n",
       "       'TP_PRESENCA_MT', 'CO_PROVA_CN', 'CO_PROVA_CH', 'CO_PROVA_LC',\n",
       "       'CO_PROVA_MT', 'NU_NOTA_CN', 'NU_NOTA_CH', 'NU_NOTA_LC', 'NU_NOTA_MT',\n",
       "       'TX_RESPOSTAS_CN', 'TX_RESPOSTAS_CH', 'TX_RESPOSTAS_LC',\n",
       "       'TX_RESPOSTAS_MT', 'TP_LINGUA', 'TX_GABARITO_CN', 'TX_GABARITO_CH',\n",
       "       'TX_GABARITO_LC', 'TX_GABARITO_MT', 'TP_STATUS_REDACAO',\n",
       "       'NU_NOTA_COMP1', 'NU_NOTA_COMP2', 'NU_NOTA_COMP3', 'NU_NOTA_COMP4',\n",
       "       'NU_NOTA_COMP5', 'NU_NOTA_REDACAO', 'Q001', 'Q002', 'Q003', 'Q004',\n",
       "       'Q005', 'Q006', 'Q007', 'Q008', 'Q009', 'Q010', 'Q011', 'Q012', 'Q013',\n",
       "       'Q014', 'Q015', 'Q016', 'Q017', 'Q018', 'Q019', 'Q020', 'Q021', 'Q022',\n",
       "       'Q023', 'Q024', 'Q025'],\n",
       "      dtype='object')"
      ]
     },
     "execution_count": 41,
     "metadata": {},
     "output_type": "execute_result"
    }
   ],
   "source": [
    "amostras.columns"
   ]
  },
  {
   "cell_type": "markdown",
   "metadata": {},
   "source": [
    "## Análise por raça"
   ]
  },
  {
   "cell_type": "markdown",
   "metadata": {},
   "source": [
    "Temos que:\n",
    "\n",
    "Código|Raça|\n",
    "------|----|\n",
    "0|Não declarado\n",
    "1|Branca\n",
    "2|Preta\n",
    "3|Parda\n",
    "4|Amarela\n",
    "5|Indígena "
   ]
  },
  {
   "cell_type": "code",
   "execution_count": 44,
   "metadata": {},
   "outputs": [],
   "source": [
    "amostras.TP_COR_RACA.replace({0:'Não declarado', 1:'Branca', 2:'Preta', 3:'Parda', 4:'Amarela', 5:'Indígena'}, inplace = True)"
   ]
  },
  {
   "cell_type": "markdown",
   "metadata": {},
   "source": [
    "### Pessoas Brancas e pessoas pretas"
   ]
  },
  {
   "cell_type": "markdown",
   "metadata": {},
   "source": [
    "$ H_0: $ A nota da média redação de pretos é igual a de brancos <br>\n",
    "$ H_1: $ A nota da média redação de pretos não é igual a de brancos <br>"
   ]
  },
  {
   "cell_type": "code",
   "execution_count": null,
   "metadata": {},
   "outputs": [],
   "source": [
    "amostras_pessoas_pretas = amostras.query(\"TP_COR_RACA == 'Preta'\")['NU_NOTA_REDACAO']\n",
    "amostras_pessoas_brancas = amostras.query(\"TP_COR_RACA == 'Branca'\")['NU_NOTA_REDACAO']\n",
    "\n",
    "teste_pretos = DescrStatsW(amostras_pessoas_pretas)\n",
    "teste_brancos = DescrStatsW(amostras_pessoas_brancas)\n",
    "\n",
    "\n",
    "teste = teste_brancos.get_compare(teste_pretos)\n",
    "\n",
    "teste.ztest_ind(alternative = 'two-sided')"
   ]
  },
  {
   "cell_type": "markdown",
   "metadata": {},
   "source": [
    "$ p-value > \\alpha $, portando não podemos descartar $H_0$ <br><br>\n",
    "\n",
    "\n",
    "<font color='green'>A nota da média redação de pretos é igual a de brancos</font>"
   ]
  },
  {
   "cell_type": "markdown",
   "metadata": {},
   "source": [
    "---"
   ]
  },
  {
   "cell_type": "markdown",
   "metadata": {},
   "source": [
    "### Pessoas Indigenas e pessoas brancas"
   ]
  },
  {
   "cell_type": "markdown",
   "metadata": {},
   "source": [
    "$ H_0: $ A nota da média redação de indigenas é igual a de brancos <br>\n",
    "$ H_1: $ A nota da média redação de indigenas não é igual a de brancos <br>"
   ]
  },
  {
   "cell_type": "code",
   "execution_count": 88,
   "metadata": {},
   "outputs": [],
   "source": [
    "amostras_pessoas_indigena = amostras.query(\"TP_COR_RACA == 'Indígena'\")['NU_NOTA_REDACAO']\n",
    "amostras_pessoas_brancas = amostras.query(\"TP_COR_RACA == 'Branca'\")['NU_NOTA_REDACAO']"
   ]
  },
  {
   "cell_type": "code",
   "execution_count": 89,
   "metadata": {},
   "outputs": [],
   "source": [
    "teste_indigenas = DescrStatsW(amostras_pessoas_indigena)\n",
    "teste_brancos = DescrStatsW(amostras_pessoas_brancas)\n",
    "\n",
    "\n",
    "teste = teste_brancos.get_compare(teste_indigenas)"
   ]
  },
  {
   "cell_type": "code",
   "execution_count": 90,
   "metadata": {},
   "outputs": [
    {
     "data": {
      "text/plain": [
       "(1.8370386404214292, 0.06620419127361056)"
      ]
     },
     "execution_count": 90,
     "metadata": {},
     "output_type": "execute_result"
    }
   ],
   "source": [
    "teste.ztest_ind(alternative = 'two-sided')"
   ]
  },
  {
   "cell_type": "markdown",
   "metadata": {},
   "source": [
    "$ p-value > \\alpha $, portando não podemos descartar $H_0$ <br><br>\n",
    "\n",
    "\n",
    "<font color='green'>A nota da média redação de indigenas é igual a de brancos</font>"
   ]
  },
  {
   "cell_type": "markdown",
   "metadata": {},
   "source": [
    "### Automatizando teste estatístico"
   ]
  },
  {
   "cell_type": "code",
   "execution_count": 125,
   "metadata": {},
   "outputs": [
    {
     "data": {
      "text/html": [
       "<div>\n",
       "<style scoped>\n",
       "    .dataframe tbody tr th:only-of-type {\n",
       "        vertical-align: middle;\n",
       "    }\n",
       "\n",
       "    .dataframe tbody tr th {\n",
       "        vertical-align: top;\n",
       "    }\n",
       "\n",
       "    .dataframe thead th {\n",
       "        text-align: right;\n",
       "    }\n",
       "</style>\n",
       "<table border=\"1\" class=\"dataframe\">\n",
       "  <thead>\n",
       "    <tr style=\"text-align: right;\">\n",
       "      <th></th>\n",
       "      <th>raca-1</th>\n",
       "      <th>raca-2</th>\n",
       "      <th>p_value</th>\n",
       "      <th>hipotese</th>\n",
       "    </tr>\n",
       "  </thead>\n",
       "  <tbody>\n",
       "    <tr>\n",
       "      <th>0</th>\n",
       "      <td>Branca</td>\n",
       "      <td>Preta</td>\n",
       "      <td>0.817190</td>\n",
       "      <td>Aceito</td>\n",
       "    </tr>\n",
       "    <tr>\n",
       "      <th>1</th>\n",
       "      <td>Branca</td>\n",
       "      <td>Não declarado</td>\n",
       "      <td>0.207221</td>\n",
       "      <td>Aceito</td>\n",
       "    </tr>\n",
       "    <tr>\n",
       "      <th>2</th>\n",
       "      <td>Branca</td>\n",
       "      <td>Parda</td>\n",
       "      <td>0.169320</td>\n",
       "      <td>Aceito</td>\n",
       "    </tr>\n",
       "    <tr>\n",
       "      <th>3</th>\n",
       "      <td>Branca</td>\n",
       "      <td>Amarela</td>\n",
       "      <td>0.987632</td>\n",
       "      <td>Aceito</td>\n",
       "    </tr>\n",
       "    <tr>\n",
       "      <th>4</th>\n",
       "      <td>Branca</td>\n",
       "      <td>Indígena</td>\n",
       "      <td>0.066204</td>\n",
       "      <td>Aceito</td>\n",
       "    </tr>\n",
       "    <tr>\n",
       "      <th>5</th>\n",
       "      <td>Preta</td>\n",
       "      <td>Não declarado</td>\n",
       "      <td>0.161837</td>\n",
       "      <td>Aceito</td>\n",
       "    </tr>\n",
       "    <tr>\n",
       "      <th>6</th>\n",
       "      <td>Preta</td>\n",
       "      <td>Parda</td>\n",
       "      <td>0.146493</td>\n",
       "      <td>Aceito</td>\n",
       "    </tr>\n",
       "    <tr>\n",
       "      <th>7</th>\n",
       "      <td>Preta</td>\n",
       "      <td>Amarela</td>\n",
       "      <td>0.941676</td>\n",
       "      <td>Aceito</td>\n",
       "    </tr>\n",
       "    <tr>\n",
       "      <th>8</th>\n",
       "      <td>Preta</td>\n",
       "      <td>Indígena</td>\n",
       "      <td>0.029302</td>\n",
       "      <td>Rejeitado</td>\n",
       "    </tr>\n",
       "    <tr>\n",
       "      <th>9</th>\n",
       "      <td>Não declarado</td>\n",
       "      <td>Parda</td>\n",
       "      <td>0.052861</td>\n",
       "      <td>Aceito</td>\n",
       "    </tr>\n",
       "    <tr>\n",
       "      <th>10</th>\n",
       "      <td>Não declarado</td>\n",
       "      <td>Amarela</td>\n",
       "      <td>0.392284</td>\n",
       "      <td>Aceito</td>\n",
       "    </tr>\n",
       "    <tr>\n",
       "      <th>11</th>\n",
       "      <td>Não declarado</td>\n",
       "      <td>Indígena</td>\n",
       "      <td>0.029339</td>\n",
       "      <td>Rejeitado</td>\n",
       "    </tr>\n",
       "    <tr>\n",
       "      <th>12</th>\n",
       "      <td>Parda</td>\n",
       "      <td>Amarela</td>\n",
       "      <td>0.665156</td>\n",
       "      <td>Aceito</td>\n",
       "    </tr>\n",
       "    <tr>\n",
       "      <th>13</th>\n",
       "      <td>Parda</td>\n",
       "      <td>Indígena</td>\n",
       "      <td>0.075173</td>\n",
       "      <td>Aceito</td>\n",
       "    </tr>\n",
       "    <tr>\n",
       "      <th>14</th>\n",
       "      <td>Amarela</td>\n",
       "      <td>Indígena</td>\n",
       "      <td>0.313936</td>\n",
       "      <td>Aceito</td>\n",
       "    </tr>\n",
       "  </tbody>\n",
       "</table>\n",
       "</div>"
      ],
      "text/plain": [
       "           raca-1         raca-2   p_value   hipotese\n",
       "0          Branca          Preta  0.817190     Aceito\n",
       "1          Branca  Não declarado  0.207221     Aceito\n",
       "2          Branca          Parda  0.169320     Aceito\n",
       "3          Branca        Amarela  0.987632     Aceito\n",
       "4          Branca       Indígena  0.066204     Aceito\n",
       "5           Preta  Não declarado  0.161837     Aceito\n",
       "6           Preta          Parda  0.146493     Aceito\n",
       "7           Preta        Amarela  0.941676     Aceito\n",
       "8           Preta       Indígena  0.029302  Rejeitado\n",
       "9   Não declarado          Parda  0.052861     Aceito\n",
       "10  Não declarado        Amarela  0.392284     Aceito\n",
       "11  Não declarado       Indígena  0.029339  Rejeitado\n",
       "12          Parda        Amarela  0.665156     Aceito\n",
       "13          Parda       Indígena  0.075173     Aceito\n",
       "14        Amarela       Indígena  0.313936     Aceito"
      ]
     },
     "execution_count": 125,
     "metadata": {},
     "output_type": "execute_result"
    }
   ],
   "source": [
    "racas_1 = list(amostras.TP_COR_RACA.unique())\n",
    "racas_2 = list(amostras.TP_COR_RACA.unique())\n",
    "\n",
    "raca_pd_1 = []\n",
    "raca_pd_2 = []\n",
    "p_values = []\n",
    "hipotese = []\n",
    "\n",
    "validacao = []\n",
    "\n",
    "for i in racas_1:\n",
    "    for j in racas_2:\n",
    "        if i != j:\n",
    "\n",
    "\n",
    "            amostras_i = amostras.query(f\"TP_COR_RACA == '{i}'\")['NU_NOTA_REDACAO']\n",
    "            amostras_j = amostras.query(f\"TP_COR_RACA == '{j}'\")['NU_NOTA_REDACAO']\n",
    "                    \n",
    "            teste_i = DescrStatsW(amostras_i)\n",
    "            teste_j = DescrStatsW(amostras_j)\n",
    "                    \n",
    "\n",
    "            raca_pd_1.append(i)\n",
    "            raca_pd_2.append(j)\n",
    "\n",
    "            teste = teste_i.get_compare(teste_j)\n",
    "            _, p_value = teste.ztest_ind(alternative = 'two-sided')\n",
    "            p_values.append(p_value)\n",
    "\n",
    "            if p_value > 0.05:\n",
    "                hipotese.append('Aceito')\n",
    "            else:\n",
    "                hipotese.append('Rejeitado')\n",
    "    racas_2.remove(i)\n",
    "\n",
    "pd.DataFrame({'raca-1': raca_pd_1, 'raca-2': raca_pd_2, 'p_value':p_values, 'hipotese':hipotese})\n"
   ]
  },
  {
   "cell_type": "markdown",
   "metadata": {},
   "source": [
    "#### Através dos teste de hipóteses e considerando um nível de confiança de 95%, tivemos que:\n",
    "\n",
    "$H_0$: A nota da média redação de Não declarado\té igual a de Indígena <br> <font color='red'>Rejeitado</font> <br><br>\n",
    "$H_0$: A nota da média redação de pessoas Pretas é igual a de Indígena <br> <font color='red'>Rejeitado</font><br><br>"
   ]
  },
  {
   "cell_type": "markdown",
   "metadata": {},
   "source": [
    "### Aprofundando nas análises a decorrer das raças"
   ]
  },
  {
   "cell_type": "markdown",
   "metadata": {},
   "source": [
    "#### Pessoas pretas e pessoas indígenas"
   ]
  },
  {
   "cell_type": "markdown",
   "metadata": {},
   "source": [
    "Vamos analisar a seguinte hipotese:\n",
    "\n",
    "$H_0$: A nota da redação de pessoas pretas é maior que a nota da redação de pessoas indígenas <br>\n",
    "$H_1$: A nota da redação de pessoas pretas é maior que a nota da redação de pessoas indígenas"
   ]
  },
  {
   "cell_type": "code",
   "execution_count": 164,
   "metadata": {},
   "outputs": [
    {
     "data": {
      "text/plain": [
       "RanksumsResult(statistic=1.9639610121239315, pvalue=0.9752326932821866)"
      ]
     },
     "execution_count": 164,
     "metadata": {},
     "output_type": "execute_result"
    }
   ],
   "source": [
    "amostras_n_declarado = amostras.query(\"TP_COR_RACA == 'Não declarado'\")['NU_NOTA_REDACAO']\n",
    "amostras_pessoas_indigenas = amostras.query(\"TP_COR_RACA == 'Indígena'\")['NU_NOTA_REDACAO']\n",
    "\n",
    "ranksums(amostras_n_declarado, amostras_pessoas_indigenas, alternative='less')"
   ]
  },
  {
   "cell_type": "markdown",
   "metadata": {},
   "source": [
    "$ p-value > \\alpha $, portando podemos descartar $H_0$ <br><br>\n",
    "\n",
    "\n",
    "<font color='green'>A nota da média redação de pretos é maior que a de Indígena</font>"
   ]
  },
  {
   "cell_type": "markdown",
   "metadata": {},
   "source": [
    "#### Não declarados e indígenas"
   ]
  },
  {
   "cell_type": "markdown",
   "metadata": {},
   "source": [
    "$ H_0: $ A nota da média redação de pretos é igual a de brancos <br>\n",
    "$ H_1: $ A nota da média redação de pretos não é igual a de brancos <br>"
   ]
  },
  {
   "cell_type": "code",
   "execution_count": 168,
   "metadata": {},
   "outputs": [
    {
     "data": {
      "text/plain": [
       "RanksumsResult(statistic=1.6090183629051282, pvalue=0.9461938367850651)"
      ]
     },
     "execution_count": 168,
     "metadata": {},
     "output_type": "execute_result"
    }
   ],
   "source": [
    "amostras_Preta = amostras.query(\"TP_COR_RACA == 'Preta'\")['NU_NOTA_REDACAO']\n",
    "amostras_pessoas_indigenas = amostras.query(\"TP_COR_RACA == 'Indígena'\")['NU_NOTA_REDACAO']\n",
    "\n",
    "ranksums(amostras_Preta, amostras_pessoas_indigenas, alternative='less')"
   ]
  },
  {
   "cell_type": "code",
   "execution_count": 154,
   "metadata": {},
   "outputs": [
    {
     "data": {
      "text/plain": [
       "RanksumsResult(statistic=1.9639610121239315, pvalue=0.024767306717813353)"
      ]
     },
     "execution_count": 154,
     "metadata": {},
     "output_type": "execute_result"
    }
   ],
   "source": [
    "ranksums(amostras_n_declarado, amostras_pessoas_indigenas, alternative='greater')"
   ]
  },
  {
   "cell_type": "markdown",
   "metadata": {},
   "source": [
    "$ p-value > \\alpha $, portando não podemos descartar $H_0$ <br><br>\n",
    "\n",
    "\n",
    "<font color='green'>A nota da média redação de Não declarados é maior que a de Indígena</font>"
   ]
  }
 ],
 "metadata": {
  "kernelspec": {
   "display_name": "Python 3.10.5 ('analise-enem-env': venv)",
   "language": "python",
   "name": "python3"
  },
  "language_info": {
   "codemirror_mode": {
    "name": "ipython",
    "version": 3
   },
   "file_extension": ".py",
   "mimetype": "text/x-python",
   "name": "python",
   "nbconvert_exporter": "python",
   "pygments_lexer": "ipython3",
   "version": "3.10.5"
  },
  "orig_nbformat": 4,
  "vscode": {
   "interpreter": {
    "hash": "85d9df4dccbe1a45f7f6757c8b5faf309613b5a6f9cfa5c441ed93baa9ca742a"
   }
  }
 },
 "nbformat": 4,
 "nbformat_minor": 2
}
