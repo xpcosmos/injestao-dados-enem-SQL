{
 "cells": [
  {
   "cell_type": "markdown",
   "metadata": {},
   "source": [
    "# Importação de bibliotecas"
   ]
  },
  {
   "cell_type": "code",
   "execution_count": 63,
   "metadata": {},
   "outputs": [],
   "source": [
    "import pandas as pd\n",
    "from scipy.stats import normaltest\n",
    "from statsmodels.stats.weightstats import DescrStatsW\n",
    "from statsmodels.stats.weightstats import CompareMeans\n",
    "from scipy.stats import wilcoxon, ranksums\n",
    "import seaborn as sns\n",
    "import statsmodels.api as sm\n",
    "import matplotlib.pyplot as plt"
   ]
  },
  {
   "cell_type": "markdown",
   "metadata": {},
   "source": [
    "# Carregamento dos dados"
   ]
  },
  {
   "cell_type": "code",
   "execution_count": 51,
   "metadata": {},
   "outputs": [],
   "source": [
    "dados = pd.read_csv('/Users/mikeiasoliveira/Downloads/02 - Outros/microdados_enem_2020/DADOS/MICRODADOS_ENEM_2020.csv', encoding='latin-1', sep=';')"
   ]
  },
  {
   "cell_type": "code",
   "execution_count": 52,
   "metadata": {},
   "outputs": [],
   "source": [
    "dados = dados[['NU_INSCRICAO', 'NU_ANO', 'TP_FAIXA_ETARIA', 'TP_SEXO',\n",
    "       'TP_ESTADO_CIVIL', 'TP_COR_RACA', 'TP_NACIONALIDADE', 'TP_ST_CONCLUSAO',\n",
    "       'TP_ANO_CONCLUIU', 'TP_ESCOLA', 'TP_ENSINO', 'IN_TREINEIRO',\n",
    "       'CO_MUNICIPIO_ESC', 'NO_MUNICIPIO_ESC', 'CO_UF_ESC', 'SG_UF_ESC',\n",
    "       'TP_DEPENDENCIA_ADM_ESC', 'TP_LOCALIZACAO_ESC', 'TP_SIT_FUNC_ESC',\n",
    "       'CO_MUNICIPIO_PROVA', 'NO_MUNICIPIO_PROVA', 'CO_UF_PROVA',\n",
    "       'SG_UF_PROVA', 'TP_PRESENCA_CN', 'TP_PRESENCA_CH', 'TP_PRESENCA_LC',\n",
    "       'TP_PRESENCA_MT', 'CO_PROVA_CN', 'CO_PROVA_CH', 'CO_PROVA_LC',\n",
    "       'CO_PROVA_MT', 'NU_NOTA_CN', 'NU_NOTA_CH', 'NU_NOTA_LC', 'NU_NOTA_MT',\n",
    "       'TX_RESPOSTAS_CN', 'TX_RESPOSTAS_CH', 'TX_RESPOSTAS_LC',\n",
    "       'TX_RESPOSTAS_MT', 'TP_LINGUA', 'TX_GABARITO_CN', 'TX_GABARITO_CH',\n",
    "       'TX_GABARITO_LC', 'TX_GABARITO_MT', 'TP_STATUS_REDACAO',\n",
    "       'NU_NOTA_COMP1', 'NU_NOTA_COMP2', 'NU_NOTA_COMP3', 'NU_NOTA_COMP4',\n",
    "       'NU_NOTA_COMP5', 'NU_NOTA_REDACAO']]"
   ]
  },
  {
   "cell_type": "markdown",
   "metadata": {},
   "source": [
    "# Limpeza dos dados"
   ]
  },
  {
   "cell_type": "code",
   "execution_count": 57,
   "metadata": {},
   "outputs": [],
   "source": [
    "dados.NU_INSCRICAO = dados.NU_INSCRICAO.fillna(0)"
   ]
  },
  {
   "cell_type": "code",
   "execution_count": 76,
   "metadata": {},
   "outputs": [],
   "source": [
    "dados_sem_redacao_0 = dados.drop(index = dados.loc[dados.NU_NOTA_REDACAO == 0].index)"
   ]
  },
  {
   "cell_type": "markdown",
   "metadata": {},
   "source": [
    "# Testes estatísticos"
   ]
  },
  {
   "cell_type": "markdown",
   "metadata": {},
   "source": [
    "## Teste de normalidade"
   ]
  },
  {
   "cell_type": "markdown",
   "metadata": {},
   "source": [
    "Definifinição de função para teste de normalidade:"
   ]
  },
  {
   "cell_type": "code",
   "execution_count": 66,
   "metadata": {},
   "outputs": [],
   "source": [
    "def teste_normalidade(dados, coluna):\n",
    "    \n",
    "    sm.qqplot(dados[coluna], line ='45', fit = True)\n",
    "    \n",
    "    stats_normTestRedacao, p_valor = normaltest(dados.NU_NOTA_REDACAO)\n",
    "    print(f'O P-value é igual a: {round(p_valor, 5)}')\n",
    "    \n",
    "    if p_valor > 0.5:\n",
    "        print('Hipótese nula aceita')\n",
    "    else: \n",
    "        print('Hipótese nula rejeitada')\n",
    "    \n",
    "    plt.show()"
   ]
  },
  {
   "cell_type": "code",
   "execution_count": 67,
   "metadata": {},
   "outputs": [
    {
     "name": "stdout",
     "output_type": "stream",
     "text": [
      "O P-value é igual a: 0.0\n",
      "Hipótese nula rejeitada\n"
     ]
    },
    {
     "data": {
      "image/png": "[encoded data removed]",
      "text/plain": [
       "<Figure size 640x480 with 1 Axes>"
      ]
     },
     "metadata": {},
     "output_type": "display_data"
    }
   ],
   "source": [
    "teste_normalidade(dados, 'NU_NOTA_REDACAO')"
   ]
  },
  {
   "cell_type": "markdown",
   "metadata": {},
   "source": [
    "$ H_0: $ A distribuição provém de uma distribuição normal <br>\n",
    "$ H_1: $ A distribuição não provém de uma distribuição normal <br>\n",
    "$ p-value > \\alpha $ <br><br>\n",
    "\n",
    "<font color='red'>A amostra não provém de uma distribuição normal</font>\n"
   ]
  },
  {
   "cell_type": "markdown",
   "metadata": {},
   "source": [
    "----"
   ]
  },
  {
   "cell_type": "markdown",
   "metadata": {},
   "source": [
    "## Análise por parâmetros"
   ]
  },
  {
   "cell_type": "markdown",
   "metadata": {},
   "source": [
    "Temos que:\n",
    "\n",
    "Código|Raça|\n",
    "------|----|\n",
    "0|Não declarado\n",
    "1|Branca\n",
    "2|Preta\n",
    "3|Parda\n",
    "4|Amarela\n",
    "5|Indígena "
   ]
  },
  {
   "cell_type": "markdown",
   "metadata": {},
   "source": [
    "### Renomeando variáveis"
   ]
  },
  {
   "cell_type": "code",
   "execution_count": 68,
   "metadata": {},
   "outputs": [],
   "source": [
    "dados.TP_COR_RACA.replace({0:'Não declarado', 1:'Branca', 2:'Preta', 3:'Parda', 4:'Amarela', 5:'Indígena'}, inplace = True)"
   ]
  },
  {
   "cell_type": "markdown",
   "metadata": {},
   "source": [
    "---"
   ]
  },
  {
   "cell_type": "markdown",
   "metadata": {},
   "source": [
    "### Automatizando teste estatístico"
   ]
  },
  {
   "cell_type": "code",
   "execution_count": 87,
   "metadata": {},
   "outputs": [],
   "source": [
    "def teste_hipotese_redacao(dados, hipotese, coluna_teste):\n",
    "    sexo_1 = list(dados[coluna_teste].unique())\n",
    "    sexo_2 = list(dados[coluna_teste].unique())\n",
    "\n",
    "    sexo_pd_1 = []\n",
    "    sexo_pd_2 = []\n",
    "    p_values = []\n",
    "    hipoteses = []\n",
    "\n",
    "    validacao = []\n",
    "\n",
    "    for i in sexo_1:\n",
    "        for j in sexo_2:\n",
    "            if i != j:\n",
    "\n",
    "\n",
    "                amostras_i = dados.query(f\"{coluna_teste} == '{i}'\")['NU_NOTA_REDACAO']\n",
    "                amostras_j = dados.query(f\"{coluna_teste} == '{j}'\")['NU_NOTA_REDACAO']\n",
    "                        \n",
    "                teste_i = DescrStatsW(amostras_i)\n",
    "                teste_j = DescrStatsW(amostras_j)\n",
    "                        \n",
    "\n",
    "                sexo_pd_1.append(i)\n",
    "                sexo_pd_2.append(j)\n",
    "\n",
    "                teste = teste_i.get_compare(teste_j)\n",
    "                _, p_value, _ = teste.ttest_ind(alternative = hipotese)\n",
    "                p_values.append(p_value)\n",
    "\n",
    "                if p_value > 0.05:\n",
    "                    hipoteses.append('Aceito')\n",
    "                else:\n",
    "                    hipoteses.append('Rejeitado')\n",
    "        sexo_2.remove(i)\n",
    "    df_hipotese = pd.DataFrame({f'{coluna_teste}_1':sexo_pd_2, f'{coluna_teste}_2': sexo_pd_1,'p_value':p_values, 'hipotese':hipoteses})\n",
    "    return df_hipotese\n"
   ]
  },
  {
   "cell_type": "markdown",
   "metadata": {},
   "source": [
    "#### Sexo"
   ]
  },
  {
   "cell_type": "markdown",
   "metadata": {},
   "source": [
    "---"
   ]
  },
  {
   "cell_type": "code",
   "execution_count": 70,
   "metadata": {},
   "outputs": [
    {
     "data": {
      "text/plain": [
       "F    0.599817\n",
       "M    0.400183\n",
       "Name: TP_SEXO, dtype: float64"
      ]
     },
     "execution_count": 70,
     "metadata": {},
     "output_type": "execute_result"
    }
   ],
   "source": [
    "dados.TP_SEXO.value_counts(normalize=True)"
   ]
  },
  {
   "cell_type": "code",
   "execution_count": 77,
   "metadata": {},
   "outputs": [
    {
     "data": {
      "text/plain": [
       "TP_SEXO\n",
       "F    602.812649\n",
       "M    571.220865\n",
       "Name: NU_NOTA_REDACAO, dtype: float64"
      ]
     },
     "execution_count": 77,
     "metadata": {},
     "output_type": "execute_result"
    }
   ],
   "source": [
    "dados_sem_redacao_0.groupby('TP_SEXO').NU_NOTA_REDACAO.mean()"
   ]
  },
  {
   "cell_type": "code",
   "execution_count": 78,
   "metadata": {},
   "outputs": [
    {
     "data": {
      "text/plain": [
       "TP_SEXO\n",
       "F    282.149905\n",
       "M    259.488779\n",
       "Name: NU_NOTA_REDACAO, dtype: float64"
      ]
     },
     "execution_count": 78,
     "metadata": {},
     "output_type": "execute_result"
    }
   ],
   "source": [
    "dados.groupby('TP_SEXO').NU_NOTA_REDACAO.mean()"
   ]
  },
  {
   "cell_type": "markdown",
   "metadata": {},
   "source": [
    "$H_0$: A nota da média redação de Mulheres é igual a de Homens<br>\n",
    "$H_1$: A nota da média redação de Mulheres é diferente a de Homens"
   ]
  },
  {
   "cell_type": "code",
   "execution_count": 79,
   "metadata": {},
   "outputs": [
    {
     "data": {
      "text/html": [
       "<div>\n",
       "<style scoped>\n",
       "    .dataframe tbody tr th:only-of-type {\n",
       "        vertical-align: middle;\n",
       "    }\n",
       "\n",
       "    .dataframe tbody tr th {\n",
       "        vertical-align: top;\n",
       "    }\n",
       "\n",
       "    .dataframe thead th {\n",
       "        text-align: right;\n",
       "    }\n",
       "</style>\n",
       "<table border=\"1\" class=\"dataframe\">\n",
       "  <thead>\n",
       "    <tr style=\"text-align: right;\">\n",
       "      <th></th>\n",
       "      <th>TP_SEXO_1</th>\n",
       "      <th>TP_SEXO_2</th>\n",
       "      <th>p_value</th>\n",
       "      <th>hipotese</th>\n",
       "    </tr>\n",
       "  </thead>\n",
       "  <tbody>\n",
       "    <tr>\n",
       "      <th>0</th>\n",
       "      <td>M</td>\n",
       "      <td>F</td>\n",
       "      <td>0.0</td>\n",
       "      <td>Rejeitado</td>\n",
       "    </tr>\n",
       "  </tbody>\n",
       "</table>\n",
       "</div>"
      ],
      "text/plain": [
       "  TP_SEXO_1 TP_SEXO_2  p_value   hipotese\n",
       "0         M         F      0.0  Rejeitado"
      ]
     },
     "execution_count": 79,
     "metadata": {},
     "output_type": "execute_result"
    }
   ],
   "source": [
    "teste_hipotese_redacao(dados_sem_redacao_0, 'two-sided', 'TP_SEXO')"
   ]
  },
  {
   "cell_type": "markdown",
   "metadata": {},
   "source": [
    "$H_0$: A nota da média redação de Mulheres é igual a de Homens <br> <font color='red'>Rejeitado</font> <br><br>\n",
    "$H_1$: A nota da média redação de Mulheres é diferente a de Homens <br> <font color='green'>Aceito</font> <br><br>"
   ]
  },
  {
   "cell_type": "markdown",
   "metadata": {},
   "source": [
    "---"
   ]
  },
  {
   "cell_type": "markdown",
   "metadata": {},
   "source": [
    "$H_0$: A nota da média redação de Mulheres é menor do que de Homens<br>\n",
    "$H_1$: A nota da média redação de Mulheres é maior do que de Homens"
   ]
  },
  {
   "cell_type": "code",
   "execution_count": 80,
   "metadata": {},
   "outputs": [
    {
     "data": {
      "text/html": [
       "<div>\n",
       "<style scoped>\n",
       "    .dataframe tbody tr th:only-of-type {\n",
       "        vertical-align: middle;\n",
       "    }\n",
       "\n",
       "    .dataframe tbody tr th {\n",
       "        vertical-align: top;\n",
       "    }\n",
       "\n",
       "    .dataframe thead th {\n",
       "        text-align: right;\n",
       "    }\n",
       "</style>\n",
       "<table border=\"1\" class=\"dataframe\">\n",
       "  <thead>\n",
       "    <tr style=\"text-align: right;\">\n",
       "      <th></th>\n",
       "      <th>TP_SEXO_1</th>\n",
       "      <th>TP_SEXO_2</th>\n",
       "      <th>p_value</th>\n",
       "      <th>hipotese</th>\n",
       "    </tr>\n",
       "  </thead>\n",
       "  <tbody>\n",
       "    <tr>\n",
       "      <th>0</th>\n",
       "      <td>M</td>\n",
       "      <td>F</td>\n",
       "      <td>0.0</td>\n",
       "      <td>Rejeitado</td>\n",
       "    </tr>\n",
       "  </tbody>\n",
       "</table>\n",
       "</div>"
      ],
      "text/plain": [
       "  TP_SEXO_1 TP_SEXO_2  p_value   hipotese\n",
       "0         M         F      0.0  Rejeitado"
      ]
     },
     "execution_count": 80,
     "metadata": {},
     "output_type": "execute_result"
    }
   ],
   "source": [
    "teste_hipotese_redacao(dados_sem_redacao_0, 'smaller', 'TP_SEXO')"
   ]
  },
  {
   "cell_type": "markdown",
   "metadata": {},
   "source": [
    "$H_0$: A nota da média redação de Mulheres é menor a de Homens <br> <font color='red'>Rejeitado</font> <br><br>\n",
    "$H_1$: A nota da média redação de Mulheres é maior a de Homens <br> <font color='green'>Aceito</font> <br><br>"
   ]
  },
  {
   "cell_type": "markdown",
   "metadata": {},
   "source": [
    "---"
   ]
  },
  {
   "cell_type": "markdown",
   "metadata": {},
   "source": [
    "$H_0$: A nota da média redação de Mulheres é maior do que de Homens<br>\n",
    "$H_1$: A nota da média redação de Mulheres é menor do que de Homens"
   ]
  },
  {
   "cell_type": "code",
   "execution_count": 81,
   "metadata": {},
   "outputs": [
    {
     "data": {
      "text/html": [
       "<div>\n",
       "<style scoped>\n",
       "    .dataframe tbody tr th:only-of-type {\n",
       "        vertical-align: middle;\n",
       "    }\n",
       "\n",
       "    .dataframe tbody tr th {\n",
       "        vertical-align: top;\n",
       "    }\n",
       "\n",
       "    .dataframe thead th {\n",
       "        text-align: right;\n",
       "    }\n",
       "</style>\n",
       "<table border=\"1\" class=\"dataframe\">\n",
       "  <thead>\n",
       "    <tr style=\"text-align: right;\">\n",
       "      <th></th>\n",
       "      <th>TP_SEXO_1</th>\n",
       "      <th>TP_SEXO_2</th>\n",
       "      <th>p_value</th>\n",
       "      <th>hipotese</th>\n",
       "    </tr>\n",
       "  </thead>\n",
       "  <tbody>\n",
       "    <tr>\n",
       "      <th>0</th>\n",
       "      <td>M</td>\n",
       "      <td>F</td>\n",
       "      <td>1.0</td>\n",
       "      <td>Aceito</td>\n",
       "    </tr>\n",
       "  </tbody>\n",
       "</table>\n",
       "</div>"
      ],
      "text/plain": [
       "  TP_SEXO_1 TP_SEXO_2  p_value hipotese\n",
       "0         M         F      1.0   Aceito"
      ]
     },
     "execution_count": 81,
     "metadata": {},
     "output_type": "execute_result"
    }
   ],
   "source": [
    "teste_hipotese_redacao(dados_sem_redacao_0, 'larger', 'TP_SEXO')"
   ]
  },
  {
   "cell_type": "markdown",
   "metadata": {},
   "source": [
    "$H_0$: A nota da média redação de Mulheres é maior a de Homens <br> <font color='green'>Rejeitado</font> <br><br>\n",
    "$H_1$: A nota da média redação de Mulheres é menor a de Homens <br> <font color='red'>Aceito</font> <br><br>"
   ]
  },
  {
   "cell_type": "markdown",
   "metadata": {},
   "source": [
    "#### Raças"
   ]
  },
  {
   "cell_type": "code",
   "execution_count": 88,
   "metadata": {},
   "outputs": [
    {
     "data": {
      "text/html": [
       "<div>\n",
       "<style scoped>\n",
       "    .dataframe tbody tr th:only-of-type {\n",
       "        vertical-align: middle;\n",
       "    }\n",
       "\n",
       "    .dataframe tbody tr th {\n",
       "        vertical-align: top;\n",
       "    }\n",
       "\n",
       "    .dataframe thead th {\n",
       "        text-align: right;\n",
       "    }\n",
       "</style>\n",
       "<table border=\"1\" class=\"dataframe\">\n",
       "  <thead>\n",
       "    <tr style=\"text-align: right;\">\n",
       "      <th></th>\n",
       "      <th>TP_COR_RACA_1</th>\n",
       "      <th>TP_COR_RACA_2</th>\n",
       "      <th>p_value</th>\n",
       "      <th>hipotese</th>\n",
       "    </tr>\n",
       "  </thead>\n",
       "  <tbody>\n",
       "    <tr>\n",
       "      <th>0</th>\n",
       "      <td>Branca</td>\n",
       "      <td>Parda</td>\n",
       "      <td>0.000000e+00</td>\n",
       "      <td>Rejeitado</td>\n",
       "    </tr>\n",
       "    <tr>\n",
       "      <th>1</th>\n",
       "      <td>Preta</td>\n",
       "      <td>Parda</td>\n",
       "      <td>0.000000e+00</td>\n",
       "      <td>Rejeitado</td>\n",
       "    </tr>\n",
       "    <tr>\n",
       "      <th>2</th>\n",
       "      <td>Não declarado</td>\n",
       "      <td>Parda</td>\n",
       "      <td>8.881800e-245</td>\n",
       "      <td>Rejeitado</td>\n",
       "    </tr>\n",
       "    <tr>\n",
       "      <th>3</th>\n",
       "      <td>Amarela</td>\n",
       "      <td>Parda</td>\n",
       "      <td>1.517420e-150</td>\n",
       "      <td>Rejeitado</td>\n",
       "    </tr>\n",
       "    <tr>\n",
       "      <th>4</th>\n",
       "      <td>Indígena</td>\n",
       "      <td>Parda</td>\n",
       "      <td>5.948060e-267</td>\n",
       "      <td>Rejeitado</td>\n",
       "    </tr>\n",
       "    <tr>\n",
       "      <th>5</th>\n",
       "      <td>Preta</td>\n",
       "      <td>Branca</td>\n",
       "      <td>0.000000e+00</td>\n",
       "      <td>Rejeitado</td>\n",
       "    </tr>\n",
       "    <tr>\n",
       "      <th>6</th>\n",
       "      <td>Não declarado</td>\n",
       "      <td>Branca</td>\n",
       "      <td>0.000000e+00</td>\n",
       "      <td>Rejeitado</td>\n",
       "    </tr>\n",
       "    <tr>\n",
       "      <th>7</th>\n",
       "      <td>Amarela</td>\n",
       "      <td>Branca</td>\n",
       "      <td>0.000000e+00</td>\n",
       "      <td>Rejeitado</td>\n",
       "    </tr>\n",
       "    <tr>\n",
       "      <th>8</th>\n",
       "      <td>Indígena</td>\n",
       "      <td>Branca</td>\n",
       "      <td>0.000000e+00</td>\n",
       "      <td>Rejeitado</td>\n",
       "    </tr>\n",
       "    <tr>\n",
       "      <th>9</th>\n",
       "      <td>Não declarado</td>\n",
       "      <td>Preta</td>\n",
       "      <td>0.000000e+00</td>\n",
       "      <td>Rejeitado</td>\n",
       "    </tr>\n",
       "    <tr>\n",
       "      <th>10</th>\n",
       "      <td>Amarela</td>\n",
       "      <td>Preta</td>\n",
       "      <td>0.000000e+00</td>\n",
       "      <td>Rejeitado</td>\n",
       "    </tr>\n",
       "    <tr>\n",
       "      <th>11</th>\n",
       "      <td>Indígena</td>\n",
       "      <td>Preta</td>\n",
       "      <td>5.132649e-134</td>\n",
       "      <td>Rejeitado</td>\n",
       "    </tr>\n",
       "    <tr>\n",
       "      <th>12</th>\n",
       "      <td>Amarela</td>\n",
       "      <td>Não declarado</td>\n",
       "      <td>7.430227e-11</td>\n",
       "      <td>Rejeitado</td>\n",
       "    </tr>\n",
       "    <tr>\n",
       "      <th>13</th>\n",
       "      <td>Indígena</td>\n",
       "      <td>Não declarado</td>\n",
       "      <td>0.000000e+00</td>\n",
       "      <td>Rejeitado</td>\n",
       "    </tr>\n",
       "    <tr>\n",
       "      <th>14</th>\n",
       "      <td>Indígena</td>\n",
       "      <td>Amarela</td>\n",
       "      <td>0.000000e+00</td>\n",
       "      <td>Rejeitado</td>\n",
       "    </tr>\n",
       "  </tbody>\n",
       "</table>\n",
       "</div>"
      ],
      "text/plain": [
       "    TP_COR_RACA_1  TP_COR_RACA_2        p_value   hipotese\n",
       "0          Branca          Parda   0.000000e+00  Rejeitado\n",
       "1           Preta          Parda   0.000000e+00  Rejeitado\n",
       "2   Não declarado          Parda  8.881800e-245  Rejeitado\n",
       "3         Amarela          Parda  1.517420e-150  Rejeitado\n",
       "4        Indígena          Parda  5.948060e-267  Rejeitado\n",
       "5           Preta         Branca   0.000000e+00  Rejeitado\n",
       "6   Não declarado         Branca   0.000000e+00  Rejeitado\n",
       "7         Amarela         Branca   0.000000e+00  Rejeitado\n",
       "8        Indígena         Branca   0.000000e+00  Rejeitado\n",
       "9   Não declarado          Preta   0.000000e+00  Rejeitado\n",
       "10        Amarela          Preta   0.000000e+00  Rejeitado\n",
       "11       Indígena          Preta  5.132649e-134  Rejeitado\n",
       "12        Amarela  Não declarado   7.430227e-11  Rejeitado\n",
       "13       Indígena  Não declarado   0.000000e+00  Rejeitado\n",
       "14       Indígena        Amarela   0.000000e+00  Rejeitado"
      ]
     },
     "execution_count": 88,
     "metadata": {},
     "output_type": "execute_result"
    }
   ],
   "source": [
    "teste_hipotese_redacao(dados_sem_redacao_0, 'two-sided', 'TP_COR_RACA')"
   ]
  },
  {
   "cell_type": "markdown",
   "metadata": {},
   "source": [
    "##### Através dos teste de hipóteses e considerando um nível de confiança de 95%, tivemos que:\n",
    "\n",
    "$H_0$: A nota da média redação de entre raças são iguais <br> <font color='red'>Rejeitado</font> <br><br>\n",
    "$H_0$: A nota da média redação de entre raças não são iguais <br> <font color='green'>Aceito</font> <br><br>"
   ]
  },
  {
   "cell_type": "code",
   "execution_count": 89,
   "metadata": {},
   "outputs": [
    {
     "data": {
      "text/html": [
       "<div>\n",
       "<style scoped>\n",
       "    .dataframe tbody tr th:only-of-type {\n",
       "        vertical-align: middle;\n",
       "    }\n",
       "\n",
       "    .dataframe tbody tr th {\n",
       "        vertical-align: top;\n",
       "    }\n",
       "\n",
       "    .dataframe thead th {\n",
       "        text-align: right;\n",
       "    }\n",
       "</style>\n",
       "<table border=\"1\" class=\"dataframe\">\n",
       "  <thead>\n",
       "    <tr style=\"text-align: right;\">\n",
       "      <th></th>\n",
       "      <th>TP_COR_RACA_1</th>\n",
       "      <th>TP_COR_RACA_2</th>\n",
       "      <th>p_value</th>\n",
       "      <th>hipotese</th>\n",
       "    </tr>\n",
       "  </thead>\n",
       "  <tbody>\n",
       "    <tr>\n",
       "      <th>0</th>\n",
       "      <td>Branca</td>\n",
       "      <td>Parda</td>\n",
       "      <td>1.000000e+00</td>\n",
       "      <td>Aceito</td>\n",
       "    </tr>\n",
       "    <tr>\n",
       "      <th>1</th>\n",
       "      <td>Preta</td>\n",
       "      <td>Parda</td>\n",
       "      <td>0.000000e+00</td>\n",
       "      <td>Rejeitado</td>\n",
       "    </tr>\n",
       "    <tr>\n",
       "      <th>2</th>\n",
       "      <td>Não declarado</td>\n",
       "      <td>Parda</td>\n",
       "      <td>1.000000e+00</td>\n",
       "      <td>Aceito</td>\n",
       "    </tr>\n",
       "    <tr>\n",
       "      <th>3</th>\n",
       "      <td>Amarela</td>\n",
       "      <td>Parda</td>\n",
       "      <td>1.000000e+00</td>\n",
       "      <td>Aceito</td>\n",
       "    </tr>\n",
       "    <tr>\n",
       "      <th>4</th>\n",
       "      <td>Indígena</td>\n",
       "      <td>Parda</td>\n",
       "      <td>2.974030e-267</td>\n",
       "      <td>Rejeitado</td>\n",
       "    </tr>\n",
       "    <tr>\n",
       "      <th>5</th>\n",
       "      <td>Preta</td>\n",
       "      <td>Branca</td>\n",
       "      <td>0.000000e+00</td>\n",
       "      <td>Rejeitado</td>\n",
       "    </tr>\n",
       "    <tr>\n",
       "      <th>6</th>\n",
       "      <td>Não declarado</td>\n",
       "      <td>Branca</td>\n",
       "      <td>0.000000e+00</td>\n",
       "      <td>Rejeitado</td>\n",
       "    </tr>\n",
       "    <tr>\n",
       "      <th>7</th>\n",
       "      <td>Amarela</td>\n",
       "      <td>Branca</td>\n",
       "      <td>0.000000e+00</td>\n",
       "      <td>Rejeitado</td>\n",
       "    </tr>\n",
       "    <tr>\n",
       "      <th>8</th>\n",
       "      <td>Indígena</td>\n",
       "      <td>Branca</td>\n",
       "      <td>0.000000e+00</td>\n",
       "      <td>Rejeitado</td>\n",
       "    </tr>\n",
       "    <tr>\n",
       "      <th>9</th>\n",
       "      <td>Não declarado</td>\n",
       "      <td>Preta</td>\n",
       "      <td>1.000000e+00</td>\n",
       "      <td>Aceito</td>\n",
       "    </tr>\n",
       "    <tr>\n",
       "      <th>10</th>\n",
       "      <td>Amarela</td>\n",
       "      <td>Preta</td>\n",
       "      <td>1.000000e+00</td>\n",
       "      <td>Aceito</td>\n",
       "    </tr>\n",
       "    <tr>\n",
       "      <th>11</th>\n",
       "      <td>Indígena</td>\n",
       "      <td>Preta</td>\n",
       "      <td>2.566325e-134</td>\n",
       "      <td>Rejeitado</td>\n",
       "    </tr>\n",
       "    <tr>\n",
       "      <th>12</th>\n",
       "      <td>Amarela</td>\n",
       "      <td>Não declarado</td>\n",
       "      <td>3.715114e-11</td>\n",
       "      <td>Rejeitado</td>\n",
       "    </tr>\n",
       "    <tr>\n",
       "      <th>13</th>\n",
       "      <td>Indígena</td>\n",
       "      <td>Não declarado</td>\n",
       "      <td>0.000000e+00</td>\n",
       "      <td>Rejeitado</td>\n",
       "    </tr>\n",
       "    <tr>\n",
       "      <th>14</th>\n",
       "      <td>Indígena</td>\n",
       "      <td>Amarela</td>\n",
       "      <td>0.000000e+00</td>\n",
       "      <td>Rejeitado</td>\n",
       "    </tr>\n",
       "  </tbody>\n",
       "</table>\n",
       "</div>"
      ],
      "text/plain": [
       "    TP_COR_RACA_1  TP_COR_RACA_2        p_value   hipotese\n",
       "0          Branca          Parda   1.000000e+00     Aceito\n",
       "1           Preta          Parda   0.000000e+00  Rejeitado\n",
       "2   Não declarado          Parda   1.000000e+00     Aceito\n",
       "3         Amarela          Parda   1.000000e+00     Aceito\n",
       "4        Indígena          Parda  2.974030e-267  Rejeitado\n",
       "5           Preta         Branca   0.000000e+00  Rejeitado\n",
       "6   Não declarado         Branca   0.000000e+00  Rejeitado\n",
       "7         Amarela         Branca   0.000000e+00  Rejeitado\n",
       "8        Indígena         Branca   0.000000e+00  Rejeitado\n",
       "9   Não declarado          Preta   1.000000e+00     Aceito\n",
       "10        Amarela          Preta   1.000000e+00     Aceito\n",
       "11       Indígena          Preta  2.566325e-134  Rejeitado\n",
       "12        Amarela  Não declarado   3.715114e-11  Rejeitado\n",
       "13       Indígena  Não declarado   0.000000e+00  Rejeitado\n",
       "14       Indígena        Amarela   0.000000e+00  Rejeitado"
      ]
     },
     "execution_count": 89,
     "metadata": {},
     "output_type": "execute_result"
    }
   ],
   "source": [
    "teste_hipotese_redacao(dados_sem_redacao_0, 'larger', 'TP_COR_RACA')"
   ]
  },
  {
   "cell_type": "code",
   "execution_count": 90,
   "metadata": {},
   "outputs": [
    {
     "data": {
      "text/html": [
       "<div>\n",
       "<style scoped>\n",
       "    .dataframe tbody tr th:only-of-type {\n",
       "        vertical-align: middle;\n",
       "    }\n",
       "\n",
       "    .dataframe tbody tr th {\n",
       "        vertical-align: top;\n",
       "    }\n",
       "\n",
       "    .dataframe thead th {\n",
       "        text-align: right;\n",
       "    }\n",
       "</style>\n",
       "<table border=\"1\" class=\"dataframe\">\n",
       "  <thead>\n",
       "    <tr style=\"text-align: right;\">\n",
       "      <th></th>\n",
       "      <th>TP_COR_RACA_1</th>\n",
       "      <th>TP_COR_RACA_2</th>\n",
       "      <th>p_value</th>\n",
       "      <th>hipotese</th>\n",
       "    </tr>\n",
       "  </thead>\n",
       "  <tbody>\n",
       "    <tr>\n",
       "      <th>0</th>\n",
       "      <td>Branca</td>\n",
       "      <td>Parda</td>\n",
       "      <td>0.000000e+00</td>\n",
       "      <td>Rejeitado</td>\n",
       "    </tr>\n",
       "    <tr>\n",
       "      <th>1</th>\n",
       "      <td>Preta</td>\n",
       "      <td>Parda</td>\n",
       "      <td>1.000000e+00</td>\n",
       "      <td>Aceito</td>\n",
       "    </tr>\n",
       "    <tr>\n",
       "      <th>2</th>\n",
       "      <td>Não declarado</td>\n",
       "      <td>Parda</td>\n",
       "      <td>4.440900e-245</td>\n",
       "      <td>Rejeitado</td>\n",
       "    </tr>\n",
       "    <tr>\n",
       "      <th>3</th>\n",
       "      <td>Amarela</td>\n",
       "      <td>Parda</td>\n",
       "      <td>7.587098e-151</td>\n",
       "      <td>Rejeitado</td>\n",
       "    </tr>\n",
       "    <tr>\n",
       "      <th>4</th>\n",
       "      <td>Indígena</td>\n",
       "      <td>Parda</td>\n",
       "      <td>1.000000e+00</td>\n",
       "      <td>Aceito</td>\n",
       "    </tr>\n",
       "    <tr>\n",
       "      <th>5</th>\n",
       "      <td>Preta</td>\n",
       "      <td>Branca</td>\n",
       "      <td>1.000000e+00</td>\n",
       "      <td>Aceito</td>\n",
       "    </tr>\n",
       "    <tr>\n",
       "      <th>6</th>\n",
       "      <td>Não declarado</td>\n",
       "      <td>Branca</td>\n",
       "      <td>1.000000e+00</td>\n",
       "      <td>Aceito</td>\n",
       "    </tr>\n",
       "    <tr>\n",
       "      <th>7</th>\n",
       "      <td>Amarela</td>\n",
       "      <td>Branca</td>\n",
       "      <td>1.000000e+00</td>\n",
       "      <td>Aceito</td>\n",
       "    </tr>\n",
       "    <tr>\n",
       "      <th>8</th>\n",
       "      <td>Indígena</td>\n",
       "      <td>Branca</td>\n",
       "      <td>1.000000e+00</td>\n",
       "      <td>Aceito</td>\n",
       "    </tr>\n",
       "    <tr>\n",
       "      <th>9</th>\n",
       "      <td>Não declarado</td>\n",
       "      <td>Preta</td>\n",
       "      <td>0.000000e+00</td>\n",
       "      <td>Rejeitado</td>\n",
       "    </tr>\n",
       "    <tr>\n",
       "      <th>10</th>\n",
       "      <td>Amarela</td>\n",
       "      <td>Preta</td>\n",
       "      <td>0.000000e+00</td>\n",
       "      <td>Rejeitado</td>\n",
       "    </tr>\n",
       "    <tr>\n",
       "      <th>11</th>\n",
       "      <td>Indígena</td>\n",
       "      <td>Preta</td>\n",
       "      <td>1.000000e+00</td>\n",
       "      <td>Aceito</td>\n",
       "    </tr>\n",
       "    <tr>\n",
       "      <th>12</th>\n",
       "      <td>Amarela</td>\n",
       "      <td>Não declarado</td>\n",
       "      <td>1.000000e+00</td>\n",
       "      <td>Aceito</td>\n",
       "    </tr>\n",
       "    <tr>\n",
       "      <th>13</th>\n",
       "      <td>Indígena</td>\n",
       "      <td>Não declarado</td>\n",
       "      <td>1.000000e+00</td>\n",
       "      <td>Aceito</td>\n",
       "    </tr>\n",
       "    <tr>\n",
       "      <th>14</th>\n",
       "      <td>Indígena</td>\n",
       "      <td>Amarela</td>\n",
       "      <td>1.000000e+00</td>\n",
       "      <td>Aceito</td>\n",
       "    </tr>\n",
       "  </tbody>\n",
       "</table>\n",
       "</div>"
      ],
      "text/plain": [
       "    TP_COR_RACA_1  TP_COR_RACA_2        p_value   hipotese\n",
       "0          Branca          Parda   0.000000e+00  Rejeitado\n",
       "1           Preta          Parda   1.000000e+00     Aceito\n",
       "2   Não declarado          Parda  4.440900e-245  Rejeitado\n",
       "3         Amarela          Parda  7.587098e-151  Rejeitado\n",
       "4        Indígena          Parda   1.000000e+00     Aceito\n",
       "5           Preta         Branca   1.000000e+00     Aceito\n",
       "6   Não declarado         Branca   1.000000e+00     Aceito\n",
       "7         Amarela         Branca   1.000000e+00     Aceito\n",
       "8        Indígena         Branca   1.000000e+00     Aceito\n",
       "9   Não declarado          Preta   0.000000e+00  Rejeitado\n",
       "10        Amarela          Preta   0.000000e+00  Rejeitado\n",
       "11       Indígena          Preta   1.000000e+00     Aceito\n",
       "12        Amarela  Não declarado   1.000000e+00     Aceito\n",
       "13       Indígena  Não declarado   1.000000e+00     Aceito\n",
       "14       Indígena        Amarela   1.000000e+00     Aceito"
      ]
     },
     "execution_count": 90,
     "metadata": {},
     "output_type": "execute_result"
    }
   ],
   "source": [
    "teste_hipotese_redacao(dados_sem_redacao_0, 'smaller', 'TP_COR_RACA')"
   ]
  },
  {
   "cell_type": "code",
   "execution_count": 85,
   "metadata": {},
   "outputs": [
    {
     "data": {
      "text/plain": [
       "TP_COR_RACA\n",
       "Amarela          587.692256\n",
       "Branca           628.547080\n",
       "Indígena         518.742849\n",
       "Não declarado    594.677156\n",
       "Parda            568.962225\n",
       "Preta            553.209028\n",
       "Name: NU_NOTA_REDACAO, dtype: float64"
      ]
     },
     "execution_count": 85,
     "metadata": {},
     "output_type": "execute_result"
    }
   ],
   "source": [
    "dados_sem_redacao_0.groupby('TP_COR_RACA').NU_NOTA_REDACAO.mean()"
   ]
  },
  {
   "cell_type": "code",
   "execution_count": 86,
   "metadata": {},
   "outputs": [
    {
     "data": {
      "text/plain": [
       "<AxesSubplot: xlabel='TP_COR_RACA', ylabel='NU_NOTA_REDACAO'>"
      ]
     },
     "execution_count": 86,
     "metadata": {},
     "output_type": "execute_result"
    },
    {
     "data": {
      "image/png": "[encoded data removed]",
      "text/plain": [
       "<Figure size 640x480 with 1 Axes>"
      ]
     },
     "metadata": {},
     "output_type": "display_data"
    }
   ],
   "source": [
    "sns.boxplot(dados_sem_redacao_0, x = 'TP_COR_RACA', y ='NU_NOTA_REDACAO')"
   ]
  },
  {
   "cell_type": "markdown",
   "metadata": {},
   "source": [
    "<font color='purple'>Resumindo os resultados:</font><br><br>"
   ]
  },
  {
   "cell_type": "markdown",
   "metadata": {},
   "source": [
    "$H_0$: A nota da média redação de pessoas Brancas é maior que a de pessoas Pardas <br> <font color='green'>Aceito</font> <br><br>\n",
    "$H_0$: A nota da média redação de pessoas Não-Declaradas é maior que a de pessoas Pardas <br> <font color='green'>Aceito</font> <br><br>\n",
    "$H_0$: A nota da média redação de pessoas Amarela é maior que a de pessoas Pardas <br> <font color='green'>Aceito</font> <br><br>\n",
    "$H_0$: A nota da média redação de pessoas Não-Declarads é maior que a de pessoas Pretas <br> <font color='green'>Aceito</font> <br><br>\n",
    "$H_0$: A nota da média redação de pessoas Amarela é maior que a de pessoas Pretas <br> <font color='green'>Aceito</font> <br><br>"
   ]
  }
 ],
 "metadata": {
  "kernelspec": {
   "display_name": "Python 3.10.5 ('analise-enem-env': venv)",
   "language": "python",
   "name": "python3"
  },
  "language_info": {
   "codemirror_mode": {
    "name": "ipython",
    "version": 3
   },
   "file_extension": ".py",
   "mimetype": "text/x-python",
   "name": "python",
   "nbconvert_exporter": "python",
   "pygments_lexer": "ipython3",
   "version": "3.10.5"
  },
  "orig_nbformat": 4,
  "vscode": {
   "interpreter": {
    "hash": "85d9df4dccbe1a45f7f6757c8b5faf309613b5a6f9cfa5c441ed93baa9ca742a"
   }
  }
 },
 "nbformat": 4,
 "nbformat_minor": 2
}
