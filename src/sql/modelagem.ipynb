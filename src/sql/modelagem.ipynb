{
 "cells": [
  {
   "cell_type": "markdown",
   "metadata": {},
   "source": [
    "# Modelagem de dados\n",
    "\n",
    "\n",
    "## Dados do participante\n",
    "\n",
    "|Variável|Significado|\n",
    "|--------|-----------|\n",
    "NU_INSCRICAO|Número de inscrição|\n",
    "NU_ANO|Ano do Enem|\n",
    "TP_FAIXA_ETARIA|Faixa etária|\n",
    "TP_SEXO|Sexo\n",
    "TP_ESTADO_CIVIL|Estado civil\n",
    "TP_COR_RACA|Cor/Raça\n",
    "TP_NACIONALIDADE|Nacionalidade\n",
    "TP_ST_CONCLUSAO|Situacação ensino médio\n",
    "TP_ANO_CONCLUIU|Ano conclusão ensino médio\n",
    "TP_ESCOLA|Tipo de escola do Ensino médio\n",
    "TP_ENSINO|Tipo de instituição que concluirá o Ensino médio\n",
    "IN_TREINEIRO|Indica se o participante está apenas treinando conhecimentos"
   ]
  },
  {
   "cell_type": "markdown",
   "metadata": {},
   "source": [
    "Para a modelagem, um esquema difente dos dados originais será adotado. Será adotado dados pessoais diferentes dos indicadores educacionais\n",
    "\n",
    "## Dados participante\n",
    "|Variável|Significado|\n",
    "|--------|-----------|\n",
    "NU_INSCRICAO|Número de inscrição|\n",
    "NU_ANO|Ano do Enem|\n",
    "TP_FAIXA_ETARIA|Faixa etária|\n",
    "TP_SEXO|Sexo\n",
    "TP_ESTADO_CIVIL|Estado civil\n",
    "TP_COR_RACA|Cor/Raça\n",
    "TP_NACIONALIDADE|Nacionalidade\n",
    "\n",
    "## Dados educacionais\n",
    "|Variável|Significado|\n",
    "|--------|-----------|\n",
    "TP_ST_CONCLUSAO|Situacação ensino médio\n",
    "TP_ANO_CONCLUIU|Ano conclusão ensino médio\n",
    "TP_ESCOLA|Tipo de escola do Ensino médio\n",
    "TP_ENSINO|Tipo de instituição que concluirá o Ensino médio"
   ]
  },
  {
   "cell_type": "code",
   "execution_count": 1,
   "metadata": {},
   "outputs": [],
   "source": [
    "import findspark\n",
    "from pyspark.sql import SparkSession\n",
    "import sys\n",
    "import os"
   ]
  },
  {
   "cell_type": "code",
   "execution_count": 3,
   "metadata": {},
   "outputs": [],
   "source": [
    "findspark.init()"
   ]
  },
  {
   "cell_type": "code",
   "execution_count": 4,
   "metadata": {},
   "outputs": [
    {
     "name": "stderr",
     "output_type": "stream",
     "text": [
      "Setting default log level to \"WARN\".\n",
      "To adjust logging level use sc.setLogLevel(newLevel). For SparkR, use setLogLevel(newLevel).\n"
     ]
    },
    {
     "name": "stdout",
     "output_type": "stream",
     "text": [
      "22/10/23 16:42:01 WARN NativeCodeLoader: Unable to load native-hadoop library for your platform... using builtin-java classes where applicable\n"
     ]
    }
   ],
   "source": [
    "spark = SparkSession.builder\\\n",
    "            .master('local[*]')\\\n",
    "            .appName('modelagem')\\\n",
    "            .getOrCreate()"
   ]
  },
  {
   "cell_type": "code",
   "execution_count": 5,
   "metadata": {},
   "outputs": [],
   "source": [
    "url = f\"jdbc:postgresql://localhost:5432/db_enem\"\n",
    "user = os.getenv('USER_DB')\n",
    "password = os.getenv('PASSWORD_DB')"
   ]
  },
  {
   "cell_type": "code",
   "execution_count": null,
   "metadata": {},
   "outputs": [],
   "source": [
    "df_participante  = spark.read.format(\"jdbc\").option(\"url\", url) \\\n",
    "                                            .option(\"dbtable\", \"stage\") \\\n",
    "                                            .option(\"user\", user) \\\n",
    "                                            .option(\"password\", password) \\\n",
    "                                            .option(\"driver\", \"org.postgresql.Driver\") \\\n",
    "                                            .load()"
   ]
  },
  {
   "cell_type": "code",
   "execution_count": null,
   "metadata": {},
   "outputs": [],
   "source": []
  }
 ],
 "metadata": {
  "kernelspec": {
   "display_name": "Python 3.10.5 ('analise-enem-env': venv)",
   "language": "python",
   "name": "python3"
  },
  "language_info": {
   "codemirror_mode": {
    "name": "ipython",
    "version": 3
   },
   "file_extension": ".py",
   "mimetype": "text/x-python",
   "name": "python",
   "nbconvert_exporter": "python",
   "pygments_lexer": "ipython3",
   "version": "3.10.5"
  },
  "orig_nbformat": 4,
  "vscode": {
   "interpreter": {
    "hash": "85d9df4dccbe1a45f7f6757c8b5faf309613b5a6f9cfa5c441ed93baa9ca742a"
   }
  }
 },
 "nbformat": 4,
 "nbformat_minor": 2
}
