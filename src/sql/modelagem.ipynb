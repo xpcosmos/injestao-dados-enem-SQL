{
 "cells": [
  {
   "cell_type": "markdown",
   "metadata": {},
   "source": [
    "Notebook para criação de chaves primárias e secundárias"
   ]
  },
  {
   "cell_type": "markdown",
   "metadata": {},
   "source": [
    "# Iniciando ambiente"
   ]
  },
  {
   "cell_type": "markdown",
   "metadata": {},
   "source": [
    "## Import das bibliotecas"
   ]
  },
  {
   "cell_type": "code",
   "execution_count": 15,
   "metadata": {},
   "outputs": [],
   "source": [
    "import findspark\n",
    "from pyspark.sql import SparkSession\n",
    "import sys\n",
    "import os\n",
    "from pandas import read_excel"
   ]
  },
  {
   "cell_type": "markdown",
   "metadata": {},
   "source": [
    "## Incialização do spark"
   ]
  },
  {
   "cell_type": "code",
   "execution_count": 2,
   "metadata": {},
   "outputs": [],
   "source": [
    "findspark.init()"
   ]
  },
  {
   "cell_type": "markdown",
   "metadata": {},
   "source": [
    "## Criação da instância do Spark"
   ]
  },
  {
   "cell_type": "code",
   "execution_count": 3,
   "metadata": {},
   "outputs": [
    {
     "name": "stdout",
     "output_type": "stream",
     "text": [
      "22/11/07 16:42:53 WARN Utils: Your hostname, Mac-Mikeias.local resolves to a loopback address: 127.0.0.1; using 192.168.0.138 instead (on interface en2)\n",
      "22/11/07 16:42:53 WARN Utils: Set SPARK_LOCAL_IP if you need to bind to another address\n"
     ]
    },
    {
     "name": "stderr",
     "output_type": "stream",
     "text": [
      "Setting default log level to \"WARN\".\n",
      "To adjust logging level use sc.setLogLevel(newLevel). For SparkR, use setLogLevel(newLevel).\n"
     ]
    },
    {
     "name": "stdout",
     "output_type": "stream",
     "text": [
      "22/11/07 16:42:56 WARN NativeCodeLoader: Unable to load native-hadoop library for your platform... using builtin-java classes where applicable\n"
     ]
    }
   ],
   "source": [
    "spark =  SparkSession.builder\\\n",
    "            .master('local')\\\n",
    "            .appName('dados_enem')\\\n",
    "            .config(\"spark.executor.extraClassPath\", os.path.abspath('./'))\\\n",
    "            .getOrCreate()"
   ]
  },
  {
   "cell_type": "markdown",
   "metadata": {},
   "source": [
    "## Dados de conexão com banco de dados"
   ]
  },
  {
   "cell_type": "code",
   "execution_count": 58,
   "metadata": {},
   "outputs": [],
   "source": [
    "url = f\"jdbc:postgresql://localhost:5432/db_enem\"\n",
    "user = os.getenv('USER_DB')\n",
    "password = os.getenv('PASSWORD_DB')"
   ]
  },
  {
   "cell_type": "markdown",
   "metadata": {},
   "source": [
    "# Inclusão de municipio"
   ]
  },
  {
   "cell_type": "code",
   "execution_count": 7,
   "metadata": {},
   "outputs": [
    {
     "name": "stderr",
     "output_type": "stream",
     "text": [
      "                                                                                \r"
     ]
    }
   ],
   "source": [
    "df  =  spark.read.csv(\"/Users/mikeiasoliveira/Downloads/02 - Outros/microdados_enem_2020/microdados_enem_2020/DADOS/MICRODADOS_ENEM_2020.csv\", \n",
    "                    header=True, \n",
    "                    inferSchema=True,\n",
    "                    sep=';')\n"
   ]
  },
  {
   "cell_type": "code",
   "execution_count": 12,
   "metadata": {},
   "outputs": [],
   "source": [
    "df_mun = df.select('CO_MUNICIPIO_ESC').distinct().dropna()"
   ]
  },
  {
   "cell_type": "code",
   "execution_count": 35,
   "metadata": {},
   "outputs": [],
   "source": [
    "mun_IBGE = read_excel(os.path.abspath('../DTB_2021/RELATORIO_DTB_BRASIL_MUNICIPIO.xls'))"
   ]
  },
  {
   "cell_type": "code",
   "execution_count": 36,
   "metadata": {},
   "outputs": [
    {
     "name": "stderr",
     "output_type": "stream",
     "text": [
      "/Users/mikeiasoliveira/Documents/Projetos/análise_dados_enem/analise-dados-enem/analise-enem-env/lib/python3.10/site-packages/pyspark/sql/pandas/conversion.py:474: FutureWarning: iteritems is deprecated and will be removed in a future version. Use .items instead.\n",
      "  for column, series in pdf.iteritems():\n",
      "/Users/mikeiasoliveira/Documents/Projetos/análise_dados_enem/analise-dados-enem/analise-enem-env/lib/python3.10/site-packages/pyspark/sql/pandas/conversion.py:486: FutureWarning: iteritems is deprecated and will be removed in a future version. Use .items instead.\n",
      "  for column, series in pdf.iteritems():\n"
     ]
    }
   ],
   "source": [
    "mun_IBGE = spark.createDataFrame(mun_IBGE)"
   ]
  },
  {
   "cell_type": "code",
   "execution_count": 37,
   "metadata": {},
   "outputs": [
    {
     "name": "stdout",
     "output_type": "stream",
     "text": [
      "root\n",
      " |-- UF: long (nullable = true)\n",
      " |-- Nome_UF: string (nullable = true)\n",
      " |-- Região Geográfica Intermediária: long (nullable = true)\n",
      " |-- Nome Região Geográfica Intermediária: string (nullable = true)\n",
      " |-- Região Geográfica Imediata: long (nullable = true)\n",
      " |-- Nome Região Geográfica Imediata: string (nullable = true)\n",
      " |-- Mesorregião Geográfica: long (nullable = true)\n",
      " |-- Nome_Mesorregião: string (nullable = true)\n",
      " |-- Microrregião Geográfica: long (nullable = true)\n",
      " |-- Nome_Microrregião: string (nullable = true)\n",
      " |-- Município: long (nullable = true)\n",
      " |-- Código Município Completo: long (nullable = true)\n",
      " |-- Nome_Município: string (nullable = true)\n",
      "\n"
     ]
    }
   ],
   "source": [
    "mun_IBGE.printSchema()"
   ]
  },
  {
   "cell_type": "code",
   "execution_count": 38,
   "metadata": {},
   "outputs": [],
   "source": [
    "mun_IBGE = mun_IBGE.withColumnRenamed('Região Geográfica Intermediária', 'regiao_geo_inter')\\\n",
    "                    .withColumnRenamed('Nome Região Geográfica Intermediária', 'nome_regiao_geo_inter')\\\n",
    "                    .withColumnRenamed('Região Geográfica Imediata', 'regiao_geo_imed')\\\n",
    "                    .withColumnRenamed('Nome Região Geográfica Imediata', 'nome_regiao_geo_imed')\\\n",
    "                    .withColumnRenamed('Mesorregião Geográfica', 'meso_geo')\\\n",
    "                    .withColumnRenamed('Nome_Mesorregião', 'nome_meso')\\\n",
    "                    .withColumnRenamed('Microrregião Geográfica', 'micro_geo')\\\n",
    "                    .withColumnRenamed('Nome_Microrregião', 'nome_micro')\\\n",
    "                    .withColumnRenamed('Município', 'municipio')\\\n",
    "                    .withColumnRenamed('Código Município Completo', 'cod_mun')\\\n",
    "                    .withColumnRenamed('Nome_Município', 'nome_mun')\\\n",
    "                    .withColumnRenamed('UF', 'uf')\\\n",
    "                    .withColumnRenamed('Nome_UF', 'nome_uf')"
   ]
  },
  {
   "cell_type": "code",
   "execution_count": 59,
   "metadata": {},
   "outputs": [
    {
     "name": "stderr",
     "output_type": "stream",
     "text": [
      "                                                                                \r"
     ]
    }
   ],
   "source": [
    "mun_IBGE.write.format(\"jdbc\").mode(\"append\").option(\"url\", url)\\\n",
    "                .option(\"dbtable\", \"enem2020.regiao\")\\\n",
    "                .option(\"user\", user)\\\n",
    "                .option(\"password\", password)\\\n",
    "                .option(\"driver\", \"org.postgresql.Driver\")\\\n",
    "                .save()"
   ]
  },
  {
   "cell_type": "code",
   "execution_count": 72,
   "metadata": {},
   "outputs": [],
   "source": [
    "uf_IBGE = mun_IBGE.select('uf', 'nome_uf')\n",
    "uf_IBGE = uf_IBGE.withColumnRenamed('uf', 'cod_uf')"
   ]
  },
  {
   "cell_type": "code",
   "execution_count": 73,
   "metadata": {},
   "outputs": [],
   "source": [
    "uf_IBGE = uf_IBGE.drop_duplicates(subset=['cod_uf'])"
   ]
  },
  {
   "cell_type": "code",
   "execution_count": 77,
   "metadata": {},
   "outputs": [
    {
     "name": "stderr",
     "output_type": "stream",
     "text": [
      "[Stage 67:>                                                         (0 + 1) / 1]\r"
     ]
    },
    {
     "name": "stdout",
     "output_type": "stream",
     "text": [
      "+------+-------------------+\n",
      "|cod_uf|            nome_uf|\n",
      "+------+-------------------+\n",
      "|    11|           Rondônia|\n",
      "|    12|               Acre|\n",
      "|    13|           Amazonas|\n",
      "|    14|            Roraima|\n",
      "|    15|               Pará|\n",
      "|    16|              Amapá|\n",
      "|    17|          Tocantins|\n",
      "|    21|           Maranhão|\n",
      "|    22|              Piauí|\n",
      "|    23|              Ceará|\n",
      "|    24|Rio Grande do Norte|\n",
      "|    25|            Paraíba|\n",
      "|    26|         Pernambuco|\n",
      "|    27|            Alagoas|\n",
      "|    28|            Sergipe|\n",
      "|    29|              Bahia|\n",
      "|    31|       Minas Gerais|\n",
      "|    32|     Espírito Santo|\n",
      "|    33|     Rio de Janeiro|\n",
      "|    35|          São Paulo|\n",
      "|    41|             Paraná|\n",
      "|    42|     Santa Catarina|\n",
      "|    43|  Rio Grande do Sul|\n",
      "|    50| Mato Grosso do Sul|\n",
      "|    51|        Mato Grosso|\n",
      "|    52|              Goiás|\n",
      "|    53|   Distrito Federal|\n",
      "+------+-------------------+\n",
      "\n"
     ]
    },
    {
     "name": "stderr",
     "output_type": "stream",
     "text": [
      "                                                                                \r"
     ]
    }
   ],
   "source": [
    "uf_IBGE.select('*').show(200)"
   ]
  },
  {
   "cell_type": "code",
   "execution_count": null,
   "metadata": {},
   "outputs": [],
   "source": [
    "uf_IBGE.write.format(\"jdbc\").mode(\"append\").option(\"url\", url)\\\n",
    "                .option(\"dbtable\", \"enem2020.uf\")\\\n",
    "                .option(\"user\", user)\\\n",
    "                .option(\"password\", password)\\\n",
    "                .option(\"driver\", \"org.postgresql.Driver\")\\\n",
    "                .save()"
   ]
  }
 ],
 "metadata": {
  "kernelspec": {
   "display_name": "Python 3.10.5 ('analise-enem-env': venv)",
   "language": "python",
   "name": "python3"
  },
  "language_info": {
   "codemirror_mode": {
    "name": "ipython",
    "version": 3
   },
   "file_extension": ".py",
   "mimetype": "text/x-python",
   "name": "python",
   "nbconvert_exporter": "python",
   "pygments_lexer": "ipython3",
   "version": "3.10.5"
  },
  "orig_nbformat": 4,
  "vscode": {
   "interpreter": {
    "hash": "85d9df4dccbe1a45f7f6757c8b5faf309613b5a6f9cfa5c441ed93baa9ca742a"
   }
  }
 },
 "nbformat": 4,
 "nbformat_minor": 2
}
