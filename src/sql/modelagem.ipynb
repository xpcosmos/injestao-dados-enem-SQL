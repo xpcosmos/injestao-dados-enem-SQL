{
 "cells": [
  {
   "cell_type": "markdown",
   "metadata": {},
   "source": [
    "Notebook para criação de chaves primárias e secundárias"
   ]
  },
  {
   "cell_type": "markdown",
   "metadata": {},
   "source": [
    "# Iniciando ambiente"
   ]
  },
  {
   "cell_type": "markdown",
   "metadata": {},
   "source": [
    "## Import das bibliotecas"
   ]
  },
  {
   "cell_type": "code",
   "execution_count": 15,
   "metadata": {},
   "outputs": [],
   "source": [
    "import findspark\n",
    "from pyspark.sql import SparkSession\n",
    "import sys\n",
    "import os\n",
    "from pandas import read_excel"
   ]
  },
  {
   "cell_type": "markdown",
   "metadata": {},
   "source": [
    "## Incialização do spark"
   ]
  },
  {
   "cell_type": "code",
   "execution_count": 2,
   "metadata": {},
   "outputs": [],
   "source": [
    "findspark.init()"
   ]
  },
  {
   "cell_type": "markdown",
   "metadata": {},
   "source": [
    "## Criação da instância do Spark"
   ]
  },
  {
   "cell_type": "code",
   "execution_count": 3,
   "metadata": {},
   "outputs": [
    {
     "name": "stdout",
     "output_type": "stream",
     "text": [
      "22/11/07 16:42:53 WARN Utils: Your hostname, Mac-Mikeias.local resolves to a loopback address: 127.0.0.1; using 192.168.0.138 instead (on interface en2)\n",
      "22/11/07 16:42:53 WARN Utils: Set SPARK_LOCAL_IP if you need to bind to another address\n"
     ]
    },
    {
     "name": "stderr",
     "output_type": "stream",
     "text": [
      "Setting default log level to \"WARN\".\n",
      "To adjust logging level use sc.setLogLevel(newLevel). For SparkR, use setLogLevel(newLevel).\n"
     ]
    },
    {
     "name": "stdout",
     "output_type": "stream",
     "text": [
      "22/11/07 16:42:56 WARN NativeCodeLoader: Unable to load native-hadoop library for your platform... using builtin-java classes where applicable\n"
     ]
    }
   ],
   "source": [
    "spark =  SparkSession.builder\\\n",
    "            .master('local')\\\n",
    "            .appName('dados_enem')\\\n",
    "            .config(\"spark.executor.extraClassPath\", os.path.abspath('./'))\\\n",
    "            .getOrCreate()"
   ]
  },
  {
   "cell_type": "markdown",
   "metadata": {},
   "source": [
    "## Dados de conexão com banco de dados"
   ]
  },
  {
   "cell_type": "code",
   "execution_count": 4,
   "metadata": {},
   "outputs": [],
   "source": [
    "url = f\"jdbc:postgresql://localhost:5432/db_enem\"\n",
    "user = os.getenv('USER_DB')\n",
    "password = os.getenv('PASSWORD_DB')"
   ]
  },
  {
   "cell_type": "markdown",
   "metadata": {},
   "source": [
    "# DF"
   ]
  },
  {
   "cell_type": "code",
   "execution_count": 7,
   "metadata": {},
   "outputs": [
    {
     "name": "stderr",
     "output_type": "stream",
     "text": [
      "                                                                                \r"
     ]
    }
   ],
   "source": [
    "df  =  spark.read.csv(\"/Users/mikeiasoliveira/Downloads/02 - Outros/microdados_enem_2020/microdados_enem_2020/DADOS/MICRODADOS_ENEM_2020.csv\", \n",
    "                    header=True, \n",
    "                    inferSchema=True,\n",
    "                    sep=';')\n"
   ]
  },
  {
   "cell_type": "code",
   "execution_count": 12,
   "metadata": {},
   "outputs": [],
   "source": [
    "df_mun = df.select('CO_MUNICIPIO_ESC').distinct().dropna()"
   ]
  },
  {
   "cell_type": "code",
   "execution_count": 21,
   "metadata": {},
   "outputs": [],
   "source": [
    "mun_IBGE = read_excel(os.path.abspath('../DTB_2021/RELATORIO_DTB_BRASIL_DISTRITO.xls'))"
   ]
  },
  {
   "cell_type": "code",
   "execution_count": 22,
   "metadata": {},
   "outputs": [
    {
     "name": "stderr",
     "output_type": "stream",
     "text": [
      "/Users/mikeiasoliveira/Documents/Projetos/análise_dados_enem/analise-dados-enem/analise-enem-env/lib/python3.10/site-packages/pyspark/sql/pandas/conversion.py:474: FutureWarning: iteritems is deprecated and will be removed in a future version. Use .items instead.\n",
      "  for column, series in pdf.iteritems():\n",
      "/Users/mikeiasoliveira/Documents/Projetos/análise_dados_enem/analise-dados-enem/analise-enem-env/lib/python3.10/site-packages/pyspark/sql/pandas/conversion.py:486: FutureWarning: iteritems is deprecated and will be removed in a future version. Use .items instead.\n",
      "  for column, series in pdf.iteritems():\n"
     ]
    }
   ],
   "source": [
    "mun_IBGE = spark.createDataFrame(mun_IBGE)"
   ]
  },
  {
   "cell_type": "code",
   "execution_count": 23,
   "metadata": {},
   "outputs": [
    {
     "name": "stderr",
     "output_type": "stream",
     "text": [
      "[Stage 12:>                                                         (0 + 1) / 1]\r"
     ]
    },
    {
     "name": "stdout",
     "output_type": "stream",
     "text": [
      "+---+--------+-------------------------------+------------------------------------+--------------------------+-------------------------------+----------------------+-----------------+-----------------------+-----------------+---------+-------------------------+--------------------+--------+---------------------------+--------------------+\n",
      "| UF| Nome_UF|Região Geográfica Intermediária|Nome Região Geográfica Intermediária|Região Geográfica Imediata|Nome Região Geográfica Imediata|Mesorregião Geográfica| Nome_Mesorregião|Microrregião Geográfica|Nome_Microrregião|Município|Código Município Completo|      Nome_Município|Distrito|Código de Distrito Completo|       Nome_Distrito|\n",
      "+---+--------+-------------------------------+------------------------------------+--------------------------+-------------------------------+----------------------+-----------------+-----------------------+-----------------+---------+-------------------------+--------------------+--------+---------------------------+--------------------+\n",
      "| 11|Rondônia|                           1102|                           Ji-Paraná|                    110005|                         Cacoal|                     2|Leste Rondoniense|                      6|           Cacoal|       15|                  1100015|Alta Floresta D'O...|       5|                  110001505|Alta Floresta D'O...|\n",
      "| 11|Rondônia|                           1102|                           Ji-Paraná|                    110005|                         Cacoal|                     2|Leste Rondoniense|                      6|           Cacoal|       15|                  1100015|Alta Floresta D'O...|      15|                  110001515|  Filadélfia d'Oeste|\n",
      "| 11|Rondônia|                           1102|                           Ji-Paraná|                    110005|                         Cacoal|                     2|Leste Rondoniense|                      6|           Cacoal|       15|                  1100015|Alta Floresta D'O...|      20|                  110001520|         Izidolândia|\n",
      "| 11|Rondônia|                           1102|                           Ji-Paraná|                    110005|                         Cacoal|                     2|Leste Rondoniense|                      6|           Cacoal|       15|                  1100015|Alta Floresta D'O...|      25|                  110001525|  Nova Gease d'Oeste|\n",
      "| 11|Rondônia|                           1102|                           Ji-Paraná|                    110005|                         Cacoal|                     2|Leste Rondoniense|                      6|           Cacoal|       15|                  1100015|Alta Floresta D'O...|      30|                  110001530|Rolim de Moura do...|\n",
      "| 11|Rondônia|                           1102|                           Ji-Paraná|                    110005|                         Cacoal|                     2|Leste Rondoniense|                      6|           Cacoal|       15|                  1100015|Alta Floresta D'O...|      35|                  110001535|Santo Antônio d'O...|\n",
      "| 11|Rondônia|                           1102|                           Ji-Paraná|                    110005|                         Cacoal|                     2|Leste Rondoniense|                      6|           Cacoal|      379|                  1100379|Alto Alegre dos P...|       5|                  110037905|Alto Alegre dos P...|\n",
      "| 11|Rondônia|                           1101|                         Porto Velho|                    110002|                      Ariquemes|                     2|Leste Rondoniense|                      3|        Ariquemes|      403|                  1100403|        Alto Paraíso|       5|                  110040305|        Alto Paraíso|\n",
      "| 11|Rondônia|                           1102|                           Ji-Paraná|                    110004|                      Ji-Paraná|                     2|Leste Rondoniense|                      5| Alvorada D'Oeste|      346|                  1100346|    Alvorada D'Oeste|       5|                  110034605|    Alvorada D'Oeste|\n",
      "| 11|Rondônia|                           1102|                           Ji-Paraná|                    110004|                      Ji-Paraná|                     2|Leste Rondoniense|                      5| Alvorada D'Oeste|      346|                  1100346|    Alvorada D'Oeste|      25|                  110034625|       Tancredópolis|\n",
      "| 11|Rondônia|                           1102|                           Ji-Paraná|                    110004|                      Ji-Paraná|                     2|Leste Rondoniense|                      5| Alvorada D'Oeste|      346|                  1100346|    Alvorada D'Oeste|      30|                  110034630|           Terra Boa|\n",
      "| 11|Rondônia|                           1101|                         Porto Velho|                    110002|                      Ariquemes|                     2|Leste Rondoniense|                      3|        Ariquemes|       23|                  1100023|           Ariquemes|       5|                  110002305|           Ariquemes|\n",
      "| 11|Rondônia|                           1101|                         Porto Velho|                    110002|                      Ariquemes|                     1|  Madeira-Guaporé|                      1|      Porto Velho|      452|                  1100452|             Buritis|       5|                  110045205|             Buritis|\n",
      "| 11|Rondônia|                           1102|                           Ji-Paraná|                    110006|                        Vilhena|                     2|Leste Rondoniense|                      8|Colorado do Oeste|       31|                  1100031|              Cabixi|       5|                  110003105|              Cabixi|\n",
      "| 11|Rondônia|                           1101|                         Porto Velho|                    110002|                      Ariquemes|                     2|Leste Rondoniense|                      3|        Ariquemes|      601|                  1100601|         Cacaulândia|       5|                  110060105|         Cacaulândia|\n",
      "| 11|Rondônia|                           1102|                           Ji-Paraná|                    110005|                         Cacoal|                     2|Leste Rondoniense|                      6|           Cacoal|       49|                  1100049|              Cacoal|       5|                  110004905|              Cacoal|\n",
      "| 11|Rondônia|                           1102|                           Ji-Paraná|                    110005|                         Cacoal|                     2|Leste Rondoniense|                      6|           Cacoal|       49|                  1100049|              Cacoal|      10|                  110004910|            Riozinho|\n",
      "| 11|Rondônia|                           1102|                           Ji-Paraná|                    110005|                         Cacoal|                     2|Leste Rondoniense|                      6|           Cacoal|       49|                  1100049|              Cacoal|      15|                  110004915|         Divinópolis|\n",
      "| 11|Rondônia|                           1101|                         Porto Velho|                    110002|                      Ariquemes|                     1|  Madeira-Guaporé|                      1|      Porto Velho|      700|                  1100700|Campo Novo de Ron...|       5|                  110070005|Campo Novo de Ron...|\n",
      "| 11|Rondônia|                           1101|                         Porto Velho|                    110001|                    Porto Velho|                     1|  Madeira-Guaporé|                      1|      Porto Velho|      809|                  1100809|  Candeias do Jamari|       5|                  110080905|  Candeias do Jamari|\n",
      "+---+--------+-------------------------------+------------------------------------+--------------------------+-------------------------------+----------------------+-----------------+-----------------------+-----------------+---------+-------------------------+--------------------+--------+---------------------------+--------------------+\n",
      "only showing top 20 rows\n",
      "\n"
     ]
    },
    {
     "name": "stderr",
     "output_type": "stream",
     "text": [
      "                                                                                \r"
     ]
    }
   ],
   "source": [
    "mun_IBGE.show()"
   ]
  },
  {
   "cell_type": "code",
   "execution_count": null,
   "metadata": {},
   "outputs": [],
   "source": []
  }
 ],
 "metadata": {
  "kernelspec": {
   "display_name": "Python 3.10.5 ('analise-enem-env': venv)",
   "language": "python",
   "name": "python3"
  },
  "language_info": {
   "codemirror_mode": {
    "name": "ipython",
    "version": 3
   },
   "file_extension": ".py",
   "mimetype": "text/x-python",
   "name": "python",
   "nbconvert_exporter": "python",
   "pygments_lexer": "ipython3",
   "version": "3.10.5"
  },
  "orig_nbformat": 4,
  "vscode": {
   "interpreter": {
    "hash": "85d9df4dccbe1a45f7f6757c8b5faf309613b5a6f9cfa5c441ed93baa9ca742a"
   }
  }
 },
 "nbformat": 4,
 "nbformat_minor": 2
}
