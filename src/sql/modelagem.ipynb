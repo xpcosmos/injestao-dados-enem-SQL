{
 "cells": [
  {
   "cell_type": "markdown",
   "metadata": {},
   "source": [
    "# Modelagem de dados\n",
    "\n",
    "\n",
    "## Dados do participante\n",
    "\n",
    "|Variável|Significado|\n",
    "|--------|-----------|\n",
    "NU_INSCRICAO|Número de inscrição|\n",
    "NU_ANO|Ano do Enem|\n",
    "TP_FAIXA_ETARIA|Faixa etária|\n",
    "TP_SEXO|Sexo\n",
    "TP_ESTADO_CIVIL|Estado civil\n",
    "TP_COR_RACA|Cor/Raça\n",
    "TP_NACIONALIDADE|Nacionalidade\n",
    "TP_ST_CONCLUSAO|Situacação ensino médio\n",
    "TP_ANO_CONCLUIU|Ano conclusão ensino médio\n",
    "TP_ESCOLA|Tipo de escola do Ensino médio\n",
    "TP_ENSINO|Tipo de instituição que concluirá o Ensino médio\n",
    "IN_TREINEIRO|Indica se o participante está apenas treinando conhecimentos"
   ]
  },
  {
   "cell_type": "code",
   "execution_count": null,
   "metadata": {},
   "outputs": [],
   "source": []
  }
 ],
 "metadata": {
  "kernelspec": {
   "display_name": "Python 3.10.5 ('analise-enem-env': venv)",
   "language": "python",
   "name": "python3"
  },
  "language_info": {
   "name": "python",
   "version": "3.10.5"
  },
  "orig_nbformat": 4,
  "vscode": {
   "interpreter": {
    "hash": "85d9df4dccbe1a45f7f6757c8b5faf309613b5a6f9cfa5c441ed93baa9ca742a"
   }
  }
 },
 "nbformat": 4,
 "nbformat_minor": 2
}
